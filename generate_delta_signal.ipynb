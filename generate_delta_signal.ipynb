{
 "cells": [
  {
   "cell_type": "code",
   "execution_count": 12,
   "id": "946516d7",
   "metadata": {},
   "outputs": [],
   "source": [
    "import numpy as np\n",
    "import matplotlib.pyplot as plt\n",
    "import soundfile as sf\n",
    "import scipy.io.wavfile\n",
    "\n",
    "# Function to generate delta signal\n",
    "def delta_signal(sr, total_length, pulse_start, pulse_duration, amplitude=0.75):\n",
    "    # Create an array of zeros\n",
    "    N = int(total_length * sr)\n",
    "    delta = np.zeros(N)\n",
    "    \n",
    "    n = int(pulse_start * sr)\n",
    "    nend = int((pulse_start + pulse_duration) * sr)\n",
    "    \n",
    "    # Set the value at index n to 1\n",
    "    delta[n:nend] = amplitude\n",
    "    return delta"
   ]
  },
  {
   "cell_type": "code",
   "execution_count": 14,
   "id": "6b9f6581",
   "metadata": {},
   "outputs": [
    {
     "name": "stdout",
     "output_type": "stream",
     "text": [
      "Pulse duration: 0.000 seconds\n",
      "Pulse duration: 0.000 seconds\n",
      "Pulse duration: 0.001 seconds\n",
      "Pulse duration: 0.001 seconds\n"
     ]
    }
   ],
   "source": [
    "total_length = 10\n",
    "pulse_start = 3\n",
    "sample_rate = 8000\n",
    "amplitude = 1.0\n",
    "\n",
    "for pulse_duration_samples in [1, 3, 5, 10]: \n",
    "    pulse_duration = pulse_duration_samples / sample_rate\n",
    "    print(f\"Pulse duration: {pulse_duration:.3f} seconds\")\n",
    "    \n",
    "    # Generate the delta signal\n",
    "    delta = delta_signal(sample_rate, total_length, pulse_start, pulse_duration, amplitude)\n",
    "\n",
    "    sf.write(f'delta_fs{sample_rate}_len{total_length}_ppos{pulse_start}_pdur{pulse_duration_samples}_amplitude{amplitude:.3f}.wav', delta, sample_rate)\n",
    "    \n",
    "    # audio_signal_int16 = np.int16(delta * 32767)\n",
    "    # scipy.io.wavfile.write(f'delta_fs{sample_rate}_len{total_length}_ppos{pulse_start}_pdur{pulse_duration_samples}_pcm.wav', sample_rate, audio_signal_int16)\n",
    "\n",
    "    # # Plot the delta signal\n",
    "    # plt.stem(delta) #, use_line_collection=True)\n",
    "    # plt.xlabel('n')\n",
    "    # plt.ylabel('Amplitude')\n",
    "    # plt.title(f'Delta Signal (Pulse Duration: {pulse_duration:.3f} seconds)')\n",
    "    # plt.grid(True)\n",
    "    # plt.show()"
   ]
  }
 ],
 "metadata": {
  "kernelspec": {
   "display_name": ".venv",
   "language": "python",
   "name": "python3"
  },
  "language_info": {
   "codemirror_mode": {
    "name": "ipython",
    "version": 3
   },
   "file_extension": ".py",
   "mimetype": "text/x-python",
   "name": "python",
   "nbconvert_exporter": "python",
   "pygments_lexer": "ipython3",
   "version": "3.13.2"
  }
 },
 "nbformat": 4,
 "nbformat_minor": 5
}
